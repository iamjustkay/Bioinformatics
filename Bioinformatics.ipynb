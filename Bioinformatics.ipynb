{
  "nbformat": 4,
  "nbformat_minor": 0,
  "metadata": {
    "colab": {
      "provenance": []
    },
    "kernelspec": {
      "name": "python3",
      "display_name": "Python 3"
    },
    "language_info": {
      "name": "python"
    }
  },
  "cells": [
    {
      "cell_type": "code",
      "execution_count": 1,
      "metadata": {
        "colab": {
          "base_uri": "https://localhost:8080/"
        },
        "id": "oUJheSopwsMv",
        "outputId": "4533fa4e-f74a-42f0-aa15-25ec4c0b178d"
      },
      "outputs": [
        {
          "output_type": "stream",
          "name": "stdout",
          "text": [
            "Collecting biopython\n",
            "  Downloading biopython-1.83-cp310-cp310-manylinux_2_17_x86_64.manylinux2014_x86_64.whl (3.1 MB)\n",
            "\u001b[2K     \u001b[90m━━━━━━━━━━━━━━━━━━━━━━━━━━━━━━━━━━━━━━━━\u001b[0m \u001b[32m3.1/3.1 MB\u001b[0m \u001b[31m11.6 MB/s\u001b[0m eta \u001b[36m0:00:00\u001b[0m\n",
            "\u001b[?25hRequirement already satisfied: numpy in /usr/local/lib/python3.10/dist-packages (from biopython) (1.25.2)\n",
            "Installing collected packages: biopython\n",
            "Successfully installed biopython-1.83\n"
          ]
        }
      ],
      "source": [
        "pip install biopython"
      ]
    },
    {
      "cell_type": "code",
      "source": [
        "from Bio.Seq import Seq\n",
        "my_dna = Seq(\"ATCG\")\n",
        "print(my_dna)"
      ],
      "metadata": {
        "colab": {
          "base_uri": "https://localhost:8080/"
        },
        "id": "ypzK5OU1ytK9",
        "outputId": "c84c07e7-b1ad-4fa8-a155-9d178d12aa6f"
      },
      "execution_count": 2,
      "outputs": [
        {
          "output_type": "stream",
          "name": "stdout",
          "text": [
            "ATCG\n"
          ]
        }
      ]
    },
    {
      "cell_type": "code",
      "source": [
        "rna = my_dna.transcribe()\n",
        "protein = my_dna.translate()\n",
        "print(rna)\n",
        "print(protein)"
      ],
      "metadata": {
        "colab": {
          "base_uri": "https://localhost:8080/"
        },
        "id": "O1PNeP6my8Kl",
        "outputId": "96678eb0-6604-436c-86e6-07a3fd770056"
      },
      "execution_count": 3,
      "outputs": [
        {
          "output_type": "stream",
          "name": "stdout",
          "text": [
            "AUCG\n",
            "I\n"
          ]
        },
        {
          "output_type": "stream",
          "name": "stderr",
          "text": [
            "/usr/local/lib/python3.10/dist-packages/Bio/Seq.py:2880: BiopythonWarning: Partial codon, len(sequence) not a multiple of three. Explicitly trim the sequence or add trailing N before translation. This may become an error in future.\n",
            "  warnings.warn(\n"
          ]
        }
      ]
    },
    {
      "cell_type": "code",
      "source": [
        "from Bio import SeqIO\n",
        "\n",
        "# Read a FASTA file\n",
        "filename = \"rcsb_pdb_8X1D.fasta\"\n",
        "for record in SeqIO.parse(filename, \"fasta\"):\n",
        "    print(f\"ID: {record.id}\")\n",
        "    print(f\"Sequence: {record.seq}\")"
      ],
      "metadata": {
        "colab": {
          "base_uri": "https://localhost:8080/"
        },
        "id": "3TgUwrImzO2V",
        "outputId": "b464fc21-ef31-4134-f26c-95be92706846"
      },
      "execution_count": 19,
      "outputs": [
        {
          "output_type": "stream",
          "name": "stdout",
          "text": [
            "ID: 8X1D_1|Chains\n",
            "Sequence: DTTNYWQDWTDGVGTVNASNLAGGQYSVSWTNCGNFVVGKGWSTGSPSRVVNYNAGAFSPNGNGYLSLYGWTRSPLIEYYVVDDWGSYRPTGTYMGTVTSDGGTYDIYTATRVNAPSIDGTQTFTQFWSVRQSKRSIGTNNTITFANHVNAWKSHGMNLGSSWAYQIIATEGYQSSGYANVTVW\n"
          ]
        }
      ]
    },
    {
      "cell_type": "code",
      "source": [
        "#Pairwise Alignment\n",
        "from Bio import pairwise2\n",
        "\n",
        "seq1 = \"ATCGTAGCTA\"\n",
        "seq2 = \"AGCTAGCTG\"\n",
        "\n",
        "alignments = pairwise2.align.globalxx(seq1, seq2)\n",
        "best_alignment = alignments[0]\n",
        "\n",
        "print(f\"Aligned sequence 1: {best_alignment[0]}\")\n",
        "print(f\"Aligned sequence 2: {best_alignment[1]}\")"
      ],
      "metadata": {
        "colab": {
          "base_uri": "https://localhost:8080/"
        },
        "id": "NqGmIQFl0X9n",
        "outputId": "63fe98dd-9fb7-403e-a9f5-d7a1f76bd1ba"
      },
      "execution_count": 5,
      "outputs": [
        {
          "output_type": "stream",
          "name": "stdout",
          "text": [
            "Aligned sequence 1: ATCG-TAGCTA-\n",
            "Aligned sequence 2: A--GCTAGCT-G\n"
          ]
        },
        {
          "output_type": "stream",
          "name": "stderr",
          "text": [
            "/usr/local/lib/python3.10/dist-packages/Bio/pairwise2.py:278: BiopythonDeprecationWarning: Bio.pairwise2 has been deprecated, and we intend to remove it in a future release of Biopython. As an alternative, please consider using Bio.Align.PairwiseAligner as a replacement, and contact the Biopython developers if you still need the Bio.pairwise2 module.\n",
            "  warnings.warn(\n"
          ]
        }
      ]
    },
    {
      "cell_type": "code",
      "source": [
        "#Pairwise Score\n",
        "from Bio import pairwise2\n",
        "\n",
        "# Example DNA sequences\n",
        "sequence1 = \"ACGGGTACGT\"\n",
        "sequence2 = \"ACGGTACG\"\n",
        "\n",
        "# Perform global alignment and get the alignment score\n",
        "alignments = pairwise2.align.globalxx(sequence1, sequence2, score_only=True)\n",
        "\n",
        "print(f\"Alignment score: {alignments:.1f}\")"
      ],
      "metadata": {
        "colab": {
          "base_uri": "https://localhost:8080/"
        },
        "id": "bdsPIaJu0fc-",
        "outputId": "43658bd3-297a-49c5-dee3-5b6c981fab27"
      },
      "execution_count": 6,
      "outputs": [
        {
          "output_type": "stream",
          "name": "stdout",
          "text": [
            "Alignment score: 8.0\n"
          ]
        }
      ]
    },
    {
      "cell_type": "code",
      "source": [
        "#Custom Pairwise Score\n",
        "from Bio import pairwise2\n",
        "from Bio.Align import substitution_matrices\n",
        "\n",
        "# Example DNA sequences\n",
        "sequence1 = \"ACGGGTACGT\"\n",
        "sequence2 = \"ACGGTACG\"\n",
        "\n",
        "# Custom scoring matrix as a dictionary (match: +1, mismatch: -1, gap: -2)\n",
        "# Creating a substitution matrix dictionary\n",
        "matrix = {\n",
        "    ('A', 'A'): 1, ('A', 'C'): -1, ('A', 'G'): -2, ('A', 'T'): -2,\n",
        "    ('C', 'A'): -1, ('C', 'C'): 1, ('C', 'G'): -2, ('C', 'T'): -2,\n",
        "    ('G', 'A'): -2, ('G', 'C'): -2, ('G', 'G'): 1, ('G', 'T'): -1,\n",
        "    ('T', 'A'): -2, ('T', 'C'): -2, ('T', 'G'): -1, ('T', 'T'): 1\n",
        "}\n",
        "\n",
        "# Perform global alignment and get the alignment score\n",
        "alignments = pairwise2.align.globalds(sequence1, sequence2, matrix, -2, -2, score_only=True)\n",
        "\n",
        "print(f\"Alignment score: {alignments:.1f}\")"
      ],
      "metadata": {
        "colab": {
          "base_uri": "https://localhost:8080/"
        },
        "id": "lVBC--3H0tr-",
        "outputId": "97c18570-27a1-4474-a8d1-c34fabfd26ae"
      },
      "execution_count": 8,
      "outputs": [
        {
          "output_type": "stream",
          "name": "stdout",
          "text": [
            "Alignment score: 4.0\n"
          ]
        }
      ]
    },
    {
      "cell_type": "code",
      "source": [
        "#Custom Pairwise Score\n",
        "from Bio import pairwise2\n",
        "\n",
        "# Example DNA sequences\n",
        "sequence1 = \"ACGGGTACGT\"\n",
        "sequence2 = \"ACGGTACG\"\n",
        "\n",
        "# Adjusted scoring matrix as a dictionary (increased match score, reduced mismatch penalty)\n",
        "matrix = {\n",
        "    ('A', 'A'): 5, ('A', 'C'): -1, ('A', 'G'): -2, ('A', 'T'): -2,\n",
        "    ('C', 'A'): -1, ('C', 'C'): 5, ('C', 'G'): -2, ('C', 'T'): -2,\n",
        "    ('G', 'A'): -2, ('G', 'C'): -2, ('G', 'G'): 5, ('G', 'T'): -1,\n",
        "    ('T', 'A'): -2, ('T', 'C'): -2, ('T', 'G'): -1, ('T', 'T'): 5\n",
        "}\n",
        "\n",
        "# Adjusted gap penalties\n",
        "gap_open_penalty = -2\n",
        "gap_extend_penalty = -1\n",
        "\n",
        "# Perform global alignment and get the alignment score\n",
        "alignments = pairwise2.align.globalds(sequence1, sequence2, matrix, gap_open_penalty, gap_extend_penalty, score_only=True)\n",
        "\n",
        "print(f\"Alignment score: {alignments:.1f}\")"
      ],
      "metadata": {
        "colab": {
          "base_uri": "https://localhost:8080/"
        },
        "id": "N7LgKTvv1JxQ",
        "outputId": "b46d4cdc-bb7d-4a52-af41-231a974d7cdc"
      },
      "execution_count": 9,
      "outputs": [
        {
          "output_type": "stream",
          "name": "stdout",
          "text": [
            "Alignment score: 36.0\n"
          ]
        }
      ]
    },
    {
      "cell_type": "code",
      "source": [
        "#Multiple Alignment Sequence\n",
        "from Bio import SeqIO, AlignIO\n",
        "from Bio.Align import MultipleSeqAlignment\n",
        "from Bio.SeqRecord import SeqRecord\n",
        "\n",
        "# Create SeqRecord objects for our sequences\n",
        "seq_A = SeqRecord(\"ATCGTACG\", id=\"SeqA\")\n",
        "seq_B = SeqRecord(\"ATCGTCCG\", id=\"SeqB\")\n",
        "\n",
        "# Create a MultipleSeqAlignment object\n",
        "alignment = MultipleSeqAlignment([seq_A, seq_B])\n",
        "\n",
        "# Print the alignment\n",
        "print(alignment)"
      ],
      "metadata": {
        "colab": {
          "base_uri": "https://localhost:8080/"
        },
        "id": "VMVnW_nj1vF7",
        "outputId": "0fe0634a-3f6d-4136-9753-3d0130b63f9e"
      },
      "execution_count": 10,
      "outputs": [
        {
          "output_type": "stream",
          "name": "stdout",
          "text": [
            "Alignment with 2 rows and 8 columns\n",
            "ATCGTACG SeqA\n",
            "ATCGTCCG SeqB\n"
          ]
        },
        {
          "output_type": "stream",
          "name": "stderr",
          "text": [
            "/usr/local/lib/python3.10/dist-packages/Bio/SeqRecord.py:229: BiopythonDeprecationWarning: Using a string as the sequence is deprecated and will raise a TypeError in future. It has been converted to a Seq object.\n",
            "  warnings.warn(\n"
          ]
        }
      ]
    },
    {
      "cell_type": "code",
      "source": [
        "from Bio import pairwise2\n",
        "\n",
        "# Define the sequences\n",
        "seq1 = \"ATCGTACG\"\n",
        "seq2 = \"ATCGTCCG\"\n",
        "seq3 = \"ATCGTAAA\"\n",
        "seq4 = \"ATCGTGGG\"\n",
        "\n",
        "# Calculate pairwise alignments\n",
        "alignments = [\n",
        "    pairwise2.align.globalxx(seq1, seq2),\n",
        "    pairwise2.align.globalxx(seq1, seq3),\n",
        "    pairwise2.align.globalxx(seq1, seq4),\n",
        "    pairwise2.align.globalxx(seq2, seq3),\n",
        "    pairwise2.align.globalxx(seq2, seq4),\n",
        "    pairwise2.align.globalxx(seq3, seq4),\n",
        "]\n",
        "\n",
        "# Print alignment scores\n",
        "for i, alignment_list in enumerate(alignments, start=1):\n",
        "    for alignment in alignment_list:\n",
        "        seqA, seqB, score, start, end = alignment\n",
        "        print(f\"Alignment {i}: Score = {score:.1f}\")\n",
        "        print(f\"Seq1: {seqA}\")\n",
        "        print(f\"Seq2: {seqB}\\n\")\n",
        "        # Since we are only interested in one alignment per pair, break after the first\n",
        "        break"
      ],
      "metadata": {
        "colab": {
          "base_uri": "https://localhost:8080/"
        },
        "id": "ZgvTuhDz3S3z",
        "outputId": "2ec43b16-155a-4c9d-c580-a8b6c641137d"
      },
      "execution_count": 13,
      "outputs": [
        {
          "output_type": "stream",
          "name": "stdout",
          "text": [
            "Alignment 1: Score = 7.0\n",
            "Seq1: ATCGTAC-G\n",
            "Seq2: ATCGT-CCG\n",
            "\n",
            "Alignment 2: Score = 6.0\n",
            "Seq1: ATCGTACG--\n",
            "Seq2: ATCGTA--AA\n",
            "\n",
            "Alignment 3: Score = 6.0\n",
            "Seq1: ATCGTACG--\n",
            "Seq2: ATCGT--GGG\n",
            "\n",
            "Alignment 4: Score = 5.0\n",
            "Seq1: ATCGTCCG---\n",
            "Seq2: ATCGT---AAA\n",
            "\n",
            "Alignment 5: Score = 6.0\n",
            "Seq1: ATCGTCCG--\n",
            "Seq2: ATCGT--GGG\n",
            "\n",
            "Alignment 6: Score = 5.0\n",
            "Seq1: ATCGTAAA---\n",
            "Seq2: ATCGT---GGG\n",
            "\n"
          ]
        }
      ]
    },
    {
      "cell_type": "code",
      "source": [
        "from Bio import pairwise2, SeqIO\n",
        "from Bio.Align import MultipleSeqAlignment\n",
        "from Bio.SeqRecord import SeqRecord\n",
        "\n",
        "# Define the sequences\n",
        "seq1 = \"ATCGTACG\"\n",
        "seq2 = \"ATCGTCCG\"\n",
        "seq3 = \"ATCGTAAA\"\n",
        "seq4 = \"ATCGTGGG\"\n",
        "\n",
        "# Create SeqRecord objects for our sequences\n",
        "seq_A = SeqRecord(seq1, id=\"SeqA\")\n",
        "seq_B = SeqRecord(seq2, id=\"SeqB\")\n",
        "seq_C = SeqRecord(seq3, id=\"SeqC\")\n",
        "seq_D = SeqRecord(seq4, id=\"SeqD\")\n",
        "\n",
        "# Create a MultipleSeqAlignment object\n",
        "alignment = MultipleSeqAlignment([seq_A, seq_B, seq_C, seq_D])\n",
        "\n",
        "# Print the alignment\n",
        "print(alignment)\n",
        "\n",
        "# Calculate pairwise alignment scores\n",
        "alignment_scores = []\n",
        "for i in range(len(alignment)):\n",
        "    for j in range(i + 1, len(alignment)):\n",
        "        score = pairwise2.align.globalxx(alignment[i].seq, alignment[j].seq, one_alignment_only=True)[0][2]\n",
        "        alignment_scores.append((alignment[i].id, alignment[j].id, score))\n",
        "\n",
        "# Print alignment scores\n",
        "for a, b, score in alignment_scores:\n",
        "    print(f\"Alignment score between {a} and {b}: {score:.1f}\")"
      ],
      "metadata": {
        "colab": {
          "base_uri": "https://localhost:8080/"
        },
        "id": "e_Q9_nSt45er",
        "outputId": "55aafba9-7b70-48aa-907e-377b84c367ec"
      },
      "execution_count": 14,
      "outputs": [
        {
          "output_type": "stream",
          "name": "stdout",
          "text": [
            "Alignment with 4 rows and 8 columns\n",
            "ATCGTACG SeqA\n",
            "ATCGTCCG SeqB\n",
            "ATCGTAAA SeqC\n",
            "ATCGTGGG SeqD\n",
            "Alignment score between SeqA and SeqB: 7.0\n",
            "Alignment score between SeqA and SeqC: 6.0\n",
            "Alignment score between SeqA and SeqD: 6.0\n",
            "Alignment score between SeqB and SeqC: 5.0\n",
            "Alignment score between SeqB and SeqD: 6.0\n",
            "Alignment score between SeqC and SeqD: 5.0\n"
          ]
        },
        {
          "output_type": "stream",
          "name": "stderr",
          "text": [
            "/usr/local/lib/python3.10/dist-packages/Bio/SeqRecord.py:229: BiopythonDeprecationWarning: Using a string as the sequence is deprecated and will raise a TypeError in future. It has been converted to a Seq object.\n",
            "  warnings.warn(\n"
          ]
        }
      ]
    },
    {
      "cell_type": "code",
      "source": [
        "from Bio import AlignIO, SeqRecord, pairwise2\n",
        "from Bio.Align import MultipleSeqAlignment, AlignInfo\n",
        "\n",
        "\n",
        "def get_consensus_seq(filename: str) -> SeqRecord:\n",
        "    # Load the MSA from a file (e.g., in FASTA format)\n",
        "    common_alignment = MultipleSeqAlignment(chain(*AlignIO.parse(filename, \"fasta\")))\n",
        "\n",
        "    # Calculate the consensus sequence\n",
        "    summary = AlignInfo.SummaryInfo(common_alignment)\n",
        "    consensus = summary.dumb_consensus(0.7, \"N\")  # Adjust the threshold as needed\n",
        "\n",
        "    return consensus\n",
        "\n",
        "# Example usage:\n",
        "consensus_seq = get_consensus_seq(\"rcsb_pdb_8X1D.fasta\")\n",
        "print(consensus_seq)"
      ],
      "metadata": {
        "colab": {
          "base_uri": "https://localhost:8080/"
        },
        "id": "1h37_5xD7Knh",
        "outputId": "2e4ab077-fe4f-4535-b8b3-e9f4595bf680"
      },
      "execution_count": 24,
      "outputs": [
        {
          "output_type": "stream",
          "name": "stdout",
          "text": [
            "DTTNYWQDWTDGVGTVNASNLAGGQYSVSWTNCGNFVVGKGWSTGSPSRVVNYNAGAFSPNGNGYLSLYGWTRSPLIEYYVVDDWGSYRPTGTYMGTVTSDGGTYDIYTATRVNAPSIDGTQTFTQFWSVRQSKRSIGTNNTITFANHVNAWKSHGMNLGSSWAYQIIATEGYQSSGYANVTVW\n"
          ]
        },
        {
          "output_type": "stream",
          "name": "stderr",
          "text": [
            "/usr/local/lib/python3.10/dist-packages/Bio/Align/AlignInfo.py:63: BiopythonDeprecationWarning: The `dumb_consensus` method is deprecated and will be removed in a future release of Biopython. As an alternative, you can convert the multiple sequence alignment object to a new-style Alignment object by via its `.alignment` property, and then create a Motif object. You can then use the `.consensus` or `.degenerate_consensus` property of the Motif object to get a consensus sequence. For more control over how the consensus sequence is calculated, you can call the `calculate_consensus` method on the `.counts` property of the Motif object. This is an example for a multiple sequence alignment `msa` of DNA nucleotides:\n",
            ">>> from Bio.Seq import Seq\n",
            ">>> from Bio.SeqRecord import SeqRecord\n",
            ">>> from Bio.Align import MultipleSeqAlignment\n",
            ">>> from Bio.Align.AlignInfo import SummaryInfo\n",
            ">>> msa = MultipleSeqAlignment([SeqRecord(Seq('ACGT')),\n",
            "...                             SeqRecord(Seq('ATGT')),\n",
            "...                             SeqRecord(Seq('ATGT'))])\n",
            ">>> summary = SummaryInfo(msa)\n",
            ">>> dumb_consensus = summary.dumb_consensus(ambiguous='N')\n",
            ">>> print(dumb_consensus)\n",
            "ANGT\n",
            ">>> alignment = msa.alignment\n",
            ">>> from Bio.motifs import Motif\n",
            ">>> motif = Motif('ACGT', alignment)\n",
            ">>> print(motif.consensus)\n",
            "ATGT\n",
            ">>> print(motif.degenerate_consensus)\n",
            "AYGT\n",
            ">>> counts = motif.counts\n",
            ">>> consensus = counts.calculate_consensus(identity=0.7)\n",
            ">>> print(consensus)\n",
            "ANGT\n",
            "\n",
            "If your multiple sequence alignment object was obtained using Bio.AlignIO, then you can obtain a new-style Alignment object directly by using Bio.Align.read instead of Bio.AlignIO.read, or Bio.Align.parse instead of Bio.AlignIO.parse.\n",
            "  warnings.warn(\n"
          ]
        }
      ]
    }
  ]
}